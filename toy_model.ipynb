{
 "cells": [
  {
   "cell_type": "code",
   "execution_count": null,
   "metadata": {},
   "outputs": [],
   "source": [
    "%matplotlib nbagg\n",
    "import math\n",
    "import numpy as np\n",
    "import scipy as sp\n",
    "from scipy import linalg\n",
    "from scipy import integrate\n",
    "import matplotlib.pyplot as plt\n",
    "\n",
    "from actuated_Koopman_EM_4 import ActuatedKoopmanEM\n",
    "\n",
    "# plt.rcParams['text.usetex'] = True\n",
    "# plt.rcParams['text.latex.unicode'] = True"
   ]
  },
  {
   "cell_type": "markdown",
   "metadata": {},
   "source": [
    "# Generate Data from Toy Dynamical System\n",
    "\n",
    "\\begin{equation}\n",
    "\\begin{split}\n",
    "    \\dot{x}_1 &= -\\alpha x_1 + u \\\\\n",
    "    \\dot{x}_2 &= \\beta\\left( x_1^3 - x_2 \\right) \\\\\n",
    "    y &= x_2\n",
    "\\end{split}\n",
    "\\end{equation}\n",
    "\n",
    "\\begin{equation}\n",
    "    \\frac{d}{dt}\\begin{bmatrix} 1 \\\\ x_1 \\\\ x_2 \\\\ x_1^2 \\\\ x_1^3 \\end{bmatrix} = \n",
    "    \\begin{bmatrix} \n",
    "        0 & 0 & 0 & 0 & 0 \\\\\n",
    "        0 & -\\alpha & 0 & 0 & 0 \\\\\n",
    "        0 & 0 & -\\beta & 0 & \\beta \\\\\n",
    "        0 & 0 & 0 & -2\\alpha & 0 \\\\\n",
    "        0 & 0 & 0 & 0 & -3\\alpha \n",
    "    \\end{bmatrix}\n",
    "    \\begin{bmatrix} 1 \\\\ x_1 \\\\ x_2 \\\\ x_1^2 \\\\ x_1^3 \\end{bmatrix}\n",
    "    + u \\begin{bmatrix} \n",
    "        0 & 0 & 0 & 0 & 0 \\\\\n",
    "        1 & 0 & 0 & 0 & 0 \\\\\n",
    "        0 & 0 & 0 & 0 & 0 \\\\\n",
    "        0 & 2 & 0 & 0 & 0 \\\\\n",
    "        0 & 0 & 0 & 3 & 0\n",
    "    \\end{bmatrix}\n",
    "    \\begin{bmatrix} 1 \\\\ x_1 \\\\ x_2 \\\\ x_1^2 \\\\ x_1^3 \\end{bmatrix}\n",
    "\\end{equation}"
   ]
  },
  {
   "cell_type": "code",
   "execution_count": null,
   "metadata": {},
   "outputs": [],
   "source": [
    "# state dimension\n",
    "n = 2\n",
    "\n",
    "# parameters\n",
    "alpha = 1.0\n",
    "beta = 5.0\n",
    "\n",
    "sig_u = 5.0\n",
    "\n",
    "sig_noise = 0.01\n",
    "\n",
    "# time step\n",
    "dt = 0.01\n",
    "\n",
    "V0_gt = np.array([[0, 0, 0, 0, 0],\n",
    "                  [0, -alpha, 0, 0, 0],\n",
    "                  [0, 0, -beta, 0, beta],\n",
    "                  [0, 0, 0, -2*alpha, 0],\n",
    "                  [0, 0, 0, 0, -3*alpha]])\n",
    "V1_gt = np.array([[0, 0, 0, 0, 0],\n",
    "                  [1, 0, 0, 0, 0],\n",
    "                  [0, 0, 0, 0, 0],\n",
    "                  [0, 2, 0, 0, 0],\n",
    "                  [0, 0, 0, 3, 0]])\n",
    "\n",
    "f = lambda x, t: [-alpha*x[0]+u, beta*(np.power(x[0],3) - x[1])]\n",
    "\n",
    "n_traj = 50\n",
    "n_t_interval = 50\n",
    "n_u_interval = 10\n",
    "n_t = n_u_interval*n_t_interval + 1\n",
    "\n",
    "Y_data = np.zeros((n_traj, n_t, 1))\n",
    "U_data = np.zeros((n_traj, n_t-1, 2))\n",
    "for j in range(n_traj):\n",
    "    k = 0\n",
    "    x = np.random.randn(n)\n",
    "    Y_data[j,k,0] = x[1] + np.sqrt(sig_noise)*np.random.randn()\n",
    "    for ku in range(n_u_interval):\n",
    "        u = np.sqrt(sig_u)*np.random.randn()\n",
    "        sol = sp.integrate.odeint(lambda x, t: [-alpha*x[0]+u, beta*(np.power(x[0],3) - x[1])], \n",
    "                                  x, dt*np.arange(0,n_t_interval+1))\n",
    "        for kt in range(n_t_interval):\n",
    "            U_data[j,k,0] = 1\n",
    "            U_data[j,k,1] = u\n",
    "            k = k + 1\n",
    "            x = sol[kt+1,:]\n",
    "            Y_data[j,k,0] = x[1] + np.sqrt(sig_noise)*np.random.randn()"
   ]
  },
  {
   "cell_type": "code",
   "execution_count": null,
   "metadata": {},
   "outputs": [],
   "source": [
    "j = np.random.randint(n_traj)\n",
    "\n",
    "plt.figure()\n",
    "plt.plot(np.arange(n_t), Y_data[j,:,0], 'b-')\n",
    "plt.plot(np.arange(n_t-1), U_data[0,:,1], 'g--')\n",
    "plt.show()"
   ]
  },
  {
   "cell_type": "markdown",
   "metadata": {},
   "source": [
    "# Implement EM Algorithm"
   ]
  },
  {
   "cell_type": "code",
   "execution_count": null,
   "metadata": {},
   "outputs": [],
   "source": [
    "def reflect_eigs(A):\n",
    "    # relect eigenvalues with magnitude >1 into the unit circle\n",
    "    lam, Vl, Vr = sp.linalg.eig(A, left=True, right=True)\n",
    "    w = np.diag(np.dot(np.conj(Vr).T, Vl))\n",
    "    Vl = Vl/w\n",
    "    mask = np.absolute(lam) > 1\n",
    "    lam[mask] = 1.0/lam[mask]\n",
    "    A_new = np.dot(Vr*lam, np.conj(Vl).T)\n",
    "    return A_new"
   ]
  },
  {
   "cell_type": "code",
   "execution_count": null,
   "metadata": {},
   "outputs": [],
   "source": [
    "# Girko circular law\n",
    "\n",
    "d = 1000\n",
    "A = np.random.randn(d,d)/np.sqrt(d)\n",
    "A_ref = reflect_eigs(A)\n",
    "lam = np.linalg.eigvals(A)\n",
    "lam_ref = np.linalg.eigvals(A_ref)\n",
    "\n",
    "plt.figure()\n",
    "plt.plot(np.real(lam), np.imag(lam),'bo', label='original')\n",
    "plt.plot(np.real(lam_ref), np.imag(lam_ref),'kx', label='reflected')\n",
    "plt.legend()\n",
    "plt.grid()\n",
    "\n",
    "plt.show()"
   ]
  },
  {
   "cell_type": "code",
   "execution_count": null,
   "metadata": {},
   "outputs": [],
   "source": [
    "z_dim = 5\n",
    "y_dim = Y_data.shape[2]\n",
    "u_dim = U_data.shape[2]\n",
    "\n",
    "\n",
    "## initialization for generators\n",
    "A0 = reflect_eigs(np.random.randn(z_dim-1,z_dim-1)/np.sqrt(z_dim-1))\n",
    "A1 = reflect_eigs(np.random.randn(z_dim,z_dim)/np.sqrt(z_dim))\n",
    "\n",
    "V_matrices = np.zeros((u_dim,z_dim,z_dim))\n",
    "V_matrices[0,1:,1:] = 0.5 * (A0 - np.eye(z_dim-1))/dt\n",
    "V_matrices[1,1:,:] = 0.5 * A1[1:,:] / (dt * np.max(np.absolute(U_data[:,:,1])) )\n",
    "\n",
    "\n",
    "Sig_v = 1.0e-1*np.eye(z_dim-1)\n",
    "\n",
    "C = np.zeros((y_dim,z_dim-1))\n",
    "C[0,1] = 1.0\n",
    "\n",
    "h = np.zeros((y_dim))\n",
    "\n",
    "Sig_w = 1.0e-1*np.eye(y_dim)\n",
    "\n",
    "mu_0 = np.zeros(z_dim-1)\n",
    "\n",
    "Sig_0 = np.eye(z_dim-1)\n",
    "\n",
    "n_t_train = 250\n",
    "Y_train = np.ascontiguousarray(Y_data[:,:n_t_train,:])\n",
    "U_train = np.ascontiguousarray(U_data[:,:n_t_train-1,:])\n",
    "\n",
    "EM_model = ActuatedKoopmanEM(Y_train, dt*U_train, V_matrices, C, h, Sig_v, Sig_w, mu_0, Sig_0)\n",
    "\n",
    "# save the model\n",
    "fname = 'models/toy_model/model_dim{:d}'.format(z_dim)\n",
    "save_EM_model(EM_model, fname, Y_train, dt*U_train)\n",
    "\n",
    "fname = 'models/toy_model/init_model_dim{:d}'.format(z_dim)\n",
    "save_EM_model(EM_model, fname, Y_train, dt*U_train)"
   ]
  },
  {
   "cell_type": "markdown",
   "metadata": {},
   "source": [
    "## Fit one EM step at a time"
   ]
  },
  {
   "cell_type": "code",
   "execution_count": null,
   "metadata": {},
   "outputs": [],
   "source": [
    "# EM step\n",
    "\n",
    "EM_model.run_EM_step(explicit_time_step = True, optimize_IC=True, \\\n",
    "                     optimize_observation_map=False, optimize_process_noise=True, \\\n",
    "                     compute_log_likelihood=False, bfgs_iter=1)\n",
    "\n",
    "# Make predictions on the data\n",
    "Y_pred, Sig_y_pred, Z_pred, Sig_z_pred = EM_model.predict_dynamics(z_0 = np.copy(EM_model.muhats[:,0,:]), \n",
    "                                                                   Sig_0 = np.copy(EM_model.Sighats_kk[:,0,:,:]), \n",
    "                                                                   u_data = dt*np.copy(U_data), \n",
    "                                                                   explicit_time_step = True)\n",
    "# plot the predictions\n",
    "j = np.random.randint(n_traj)\n",
    "s = 0 # observation index\n",
    "\n",
    "plt.figure()\n",
    "# plot predicted data\n",
    "plt.plot(np.arange(n_t), Y_data[j,:,s], 'k-')\n",
    "plt.plot(np.arange(1,n_t), Y_pred[j,:,s], 'b-')\n",
    "# 2-sigma confidence envelope\n",
    "plt.plot(np.arange(1,n_t), Y_pred[j,:,s] + 2*np.sqrt(Sig_y_pred[j,:,s,s]), 'b--')\n",
    "plt.plot(np.arange(1,n_t), Y_pred[j,:,s] - 2*np.sqrt(Sig_y_pred[j,:,s,s]), 'b--')\n",
    "\n",
    "plt.axvline(x=n_t_train, ymin=0, ymax=1)\n",
    "plt.grid()\n",
    "plt.show()"
   ]
  },
  {
   "cell_type": "markdown",
   "metadata": {},
   "source": [
    "## Run many steps of EM"
   ]
  },
  {
   "cell_type": "code",
   "execution_count": null,
   "metadata": {
    "scrolled": true
   },
   "outputs": [],
   "source": [
    "L = EM_model.L\n",
    "delta_L = np.inf\n",
    "iter = 0\n",
    "while iter < 100 and delta_L > 1.0e-5*np.absolute(L):\n",
    "    if iter%10 == 0:\n",
    "        EM_model.run_EM_step(explicit_time_step = True, optimize_IC=True, \\\n",
    "                         optimize_observation_map=False, optimize_process_noise=True, \\\n",
    "                         compute_log_likelihood=True, bfgs_iter=10)\n",
    "        delta_L = EM_model.L - L\n",
    "        L = EM_model.L\n",
    "    else:\n",
    "        EM_model.run_EM_step(explicit_time_step = True, optimize_IC=True, \\\n",
    "                         optimize_observation_map=False, optimize_process_noise=True, \\\n",
    "                         compute_log_likelihood=False, bfgs_iter=10)\n",
    "    \n",
    "    iter = iter + 1"
   ]
  },
  {
   "cell_type": "markdown",
   "metadata": {},
   "source": [
    "# Make Predictions"
   ]
  },
  {
   "cell_type": "code",
   "execution_count": null,
   "metadata": {},
   "outputs": [],
   "source": [
    "Y_pred, Sig_y_pred, Z_pred, Sig_z_pred = EM_model.predict_dynamics(z_0 = np.copy(EM_model.muhats[:,0,:]), \n",
    "                                                                   Sig_0 = np.copy(EM_model.Sighats_kk[:,0,:,:]), \n",
    "                                                                   u_data = dt*np.copy(U_data), \n",
    "                                                                   explicit_time_step = True)"
   ]
  },
  {
   "cell_type": "code",
   "execution_count": null,
   "metadata": {},
   "outputs": [],
   "source": [
    "j = np.random.randint(n_traj)\n",
    "s = 0 # observation index\n",
    "\n",
    "fig, axs = plt.subplots(2)\n",
    "# plot predicted data\n",
    "axs[0].plot(np.arange(n_t)*dt, Y_data[j,:,s], 'k-')\n",
    "axs[0].plot(np.arange(1,n_t)*dt, Y_pred[j,:,s], 'b-')\n",
    "# 2-sigma confidence envelope\n",
    "axs[0].plot(np.arange(1,n_t)*dt, Y_pred[j,:,s] + 2*np.sqrt(Sig_y_pred[j,:,s,s]), 'b--')\n",
    "axs[0].plot(np.arange(1,n_t)*dt, Y_pred[j,:,s] - 2*np.sqrt(Sig_y_pred[j,:,s,s]), 'b--')\n",
    "axs[0].axvline(x=n_t_train*dt, ymin=0, ymax=1)\n",
    "\n",
    "axs[1].plot(np.arange(n_t-1)*dt, U_data[j,:,1], 'k-')\n",
    "axs[1].axvline(x=n_t_train*dt, ymin=0, ymax=1)\n",
    "\n",
    "fig.tight_layout()\n",
    "\n",
    "# plt.savefig('figures/toy_model/EM_fit_traj_{:d}.png'.format(j), dpi=None, facecolor='w', edgecolor='w', \\\n",
    "#             transparent=False, bbox_inches=None, pad_inches=0.0)\n",
    "# plt.savefig('figures/toy_model/EM_fit_traj_{:d}.eps'.format(j), dpi=None, facecolor='w', edgecolor='w', \\\n",
    "#             transparent=False, bbox_inches=None, pad_inches=0.0)\n",
    "plt.show()"
   ]
  },
  {
   "cell_type": "code",
   "execution_count": null,
   "metadata": {},
   "outputs": [],
   "source": [
    "lam_gt = np.linalg.eigvals(V0_gt)\n",
    "lam_mdl = np.linalg.eigvals(EM_model.V_matrices[0,:,:])\n",
    "\n",
    "plt.figure()\n",
    "plt.plot(np.real(lam_mdl), np.imag(lam_mdl),'bo',label='model')\n",
    "plt.plot(np.real(lam_gt), np.imag(lam_gt),'kx',label='ground truth')\n",
    "plt.legend()\n",
    "plt.grid()\n",
    "\n",
    "# plt.savefig('figures/toy_model/EM_model_drift_eigs.png', dpi=None, facecolor='w', edgecolor='w', \\\n",
    "#             transparent=False, bbox_inches=None, pad_inches=0.0)\n",
    "# plt.savefig('figures/toy_model/EM_model_drift_eigs.eps', dpi=None, facecolor='w', edgecolor='w', \\\n",
    "#             transparent=False, bbox_inches=None, pad_inches=0.0)\n",
    "\n",
    "plt.show()"
   ]
  },
  {
   "cell_type": "code",
   "execution_count": null,
   "metadata": {},
   "outputs": [],
   "source": []
  }
 ],
 "metadata": {
  "kernelspec": {
   "display_name": "Python 3 (ipykernel)",
   "language": "python",
   "name": "python3"
  },
  "language_info": {
   "codemirror_mode": {
    "name": "ipython",
    "version": 3
   },
   "file_extension": ".py",
   "mimetype": "text/x-python",
   "name": "python",
   "nbconvert_exporter": "python",
   "pygments_lexer": "ipython3",
   "version": "3.9.7"
  }
 },
 "nbformat": 4,
 "nbformat_minor": 2
}
